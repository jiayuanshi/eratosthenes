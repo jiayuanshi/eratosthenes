{
 "cells": [
  {
   "cell_type": "markdown",
   "id": "01fd229a-7839-4564-8e6b-ec928fe51fbb",
   "metadata": {},
   "source": [
    "# Prime numbers and the sieve of Eratosthenes\n",
    "_Author: An enthusiastic scientist, a terrible programmer._\n",
    "\n",
    "The sieve of Eratosthenes is a simple and famous algorithm for factoring prime\n",
    "numbers. I was always fascinated with prime numbers, so I am very excited about new project!"
   ]
  },
  {
   "cell_type": "markdown",
   "id": "b728cbcd-e726-4ff3-a62f-98a7121c79a2",
   "metadata": {},
   "source": [
    "Let's start with a simple implementation of the Sieve or Eratosthenes:"
   ]
  },
  {
   "cell_type": "code",
   "execution_count": 9,
   "id": "05b287df-4c94-4105-b631-72ec7627a27c",
   "metadata": {},
   "outputs": [
    {
     "name": "stderr",
     "output_type": "stream",
     "text": [
      "/tmp/ipykernel_429/3965914521.py:2: DeprecationWarning: the imp module is deprecated in favour of importlib and slated for removal in Python 3.12; see the module's documentation for alternative uses\n",
      "  import imp; imp.reload(sieve)\n"
     ]
    },
    {
     "data": {
      "text/plain": [
       "<module 'sieve' from '/home/jovyan/site/lab/lab04/sieve.py'>"
      ]
     },
     "execution_count": 9,
     "metadata": {},
     "output_type": "execute_result"
    }
   ],
   "source": [
    "from sieve-tools import sieve\n",
    "from sieve-tools import plots\n",
    "import imp; imp.reload(sieve)\n",
    "import imp; imp.reload(plots)"
   ]
  },
  {
   "cell_type": "code",
   "execution_count": 1,
   "id": "74dbed17-52d6-4d60-b65f-e4d4900c19ac",
   "metadata": {},
   "outputs": [
    {
     "name": "stdout",
     "output_type": "stream",
     "text": [
      "CPU times: user 231 ms, sys: 361 ms, total: 591 ms\n",
      "Wall time: 135 ms\n"
     ]
    },
    {
     "data": {
      "text/plain": [
       "[2, 3, 5, 7, 11, 13, 17, 19, 23, 29, 31, 37, 41, 43, 47, 53]"
      ]
     },
     "execution_count": 1,
     "metadata": {},
     "output_type": "execute_result"
    }
   ],
   "source": [
    "%%time\n",
    "\n",
    "import sys\n",
    "import math\n",
    "import numpy as np\n",
    "\n",
    "all_primes = []\n",
    "nmax = 55\n",
    "\n",
    "if nmax == 2: \n",
    "    all_primes = [2]\n",
    "else:\n",
    "    primes_head = [2]\n",
    "    first = 3\n",
    "    primes_tail = np.arange(first,nmax+1,2)\n",
    "    while first <= round(math.sqrt(primes_tail[-1])):\n",
    "        first = primes_tail[0]\n",
    "        primes_head.append(first)\n",
    "        non_primes = first * primes_tail\n",
    "        primes_tail = np.array([ n for n in primes_tail[1:]\n",
    "                                if n not in non_primes ])\n",
    "\n",
    "all_primes = primes_head + primes_tail.tolist()\n",
    "all_primes"
   ]
  },
  {
   "cell_type": "markdown",
   "id": "bdd29d53-1ccf-44f7-8555-78bb859001c0",
   "metadata": {},
   "source": [
    "Now, let's do something a little bit more efficient. This code should give me the same than before, but in less time. "
   ]
  },
  {
   "cell_type": "code",
   "execution_count": 2,
   "id": "6faf830e-76a3-49cf-a6ed-107a121b2376",
   "metadata": {},
   "outputs": [
    {
     "name": "stdout",
     "output_type": "stream",
     "text": [
      "CPU times: user 25 µs, sys: 15 µs, total: 40 µs\n",
      "Wall time: 41.7 µs\n"
     ]
    },
    {
     "data": {
      "text/plain": [
       "[2, 3, 5, 7, 11, 13, 17, 19, 23, 29, 31, 37, 41, 43, 47, 53]"
      ]
     },
     "execution_count": 2,
     "metadata": {},
     "output_type": "execute_result"
    }
   ],
   "source": [
    "%%time \n",
    "\n",
    "all_primes = []\n",
    "\n",
    "if nmax == 2: \n",
    "    all_primes = [2]\n",
    "\n",
    "else:\n",
    "\n",
    "    primes_head = [2]\n",
    "    first = 3\n",
    "\n",
    "    # The primes tail will be kept both as a set and as a sorted list\n",
    "    primes_tail_lst = range(first,nmax+1,2)\n",
    "    primes_tail_set = set(primes_tail_lst)\n",
    "\n",
    "    # Now do the actual sieve\n",
    "    while first <= round(math.sqrt(primes_tail_lst[-1])):\n",
    "        # Move the first leftover prime from the set to the head list\n",
    "        first = primes_tail_lst[0]\n",
    "        primes_tail_set.remove(first)  # remove it from the set\n",
    "        primes_head.append(first) # and store it in the head list\n",
    "\n",
    "        # Now, remove from the primes tail all non-primes.  For us to be able\n",
    "        # to break as soon as a key is not found, it's crucial that the tail\n",
    "        # list is always sorted.\n",
    "        for next_candidate in primes_tail_lst:\n",
    "            try:\n",
    "                primes_tail_set.remove(first * next_candidate)\n",
    "            except KeyError:\n",
    "                break\n",
    "\n",
    "        # Build a new sorted tail list with the leftover keys\n",
    "        primes_tail_lst = list(primes_tail_set)\n",
    "        primes_tail_lst.sort()\n",
    "\n",
    "    all_primes = primes_head + primes_tail_lst\n",
    "    \n",
    "all_primes"
   ]
  },
  {
   "cell_type": "markdown",
   "id": "840d9c6e-a4f6-4ea8-b28a-00d8c56197cf",
   "metadata": {
    "tags": []
   },
   "source": [
    "## Long Run: proportion of primer numbers\n",
    "\n",
    "Now I am interested in knowing what is the proportion of prime numbers smaller than some `nmax`. This next for loop runs the last implementation of the sieve of Eratosthenes for different numbers. "
   ]
  },
  {
   "cell_type": "code",
   "execution_count": 3,
   "id": "ac5d3c8d-9202-4c31-99c8-58196ec328e0",
   "metadata": {},
   "outputs": [
    {
     "name": "stdout",
     "output_type": "stream",
     "text": [
      "CPU times: user 17.4 ms, sys: 0 ns, total: 17.4 ms\n",
      "Wall time: 17 ms\n"
     ]
    }
   ],
   "source": [
    "%%time \n",
    "\n",
    "all_nmax = np.arange(100, 5000, 100)\n",
    "all_proportions = []\n",
    "\n",
    "for nmax in all_nmax:\n",
    "    \n",
    "    all_primes = []\n",
    "\n",
    "    if nmax == 2: \n",
    "        all_primes = [2]\n",
    "\n",
    "    else:\n",
    "\n",
    "        primes_head = [2]\n",
    "        first = 3\n",
    "\n",
    "        # The primes tail will be kept both as a set and as a sorted list\n",
    "        primes_tail_lst = range(first,nmax+1,2)\n",
    "        primes_tail_set = set(primes_tail_lst)\n",
    "\n",
    "        # Now do the actual sieve\n",
    "        while first <= round(math.sqrt(primes_tail_lst[-1])):\n",
    "            # Move the first leftover prime from the set to the head list\n",
    "            first = primes_tail_lst[0]\n",
    "            primes_tail_set.remove(first)  # remove it from the set\n",
    "            primes_head.append(first) # and store it in the head list\n",
    "\n",
    "            # Now, remove from the primes tail all non-primes.  For us to be able\n",
    "            # to break as soon as a key is not found, it's crucial that the tail\n",
    "            # list is always sorted.\n",
    "            for next_candidate in primes_tail_lst:\n",
    "                try:\n",
    "                    primes_tail_set.remove(first * next_candidate)\n",
    "                except KeyError:\n",
    "                    break\n",
    "\n",
    "            # Build a new sorted tail list with the leftover keys\n",
    "            primes_tail_lst = list(primes_tail_set)\n",
    "            primes_tail_lst.sort()\n",
    "\n",
    "        all_primes = primes_head + primes_tail_lst\n",
    "\n",
    "    all_proportions.append(len(all_primes) / nmax)"
   ]
  },
  {
   "cell_type": "code",
   "execution_count": 4,
   "id": "ccfc9a97-2708-4c95-8fca-b1d582d38666",
   "metadata": {},
   "outputs": [
    {
     "ename": "NameError",
     "evalue": "name 'plt' is not defined",
     "output_type": "error",
     "traceback": [
      "\u001b[0;31m---------------------------------------------------------------------------\u001b[0m",
      "\u001b[0;31mNameError\u001b[0m                                 Traceback (most recent call last)",
      "Cell \u001b[0;32mIn[4], line 1\u001b[0m\n\u001b[0;32m----> 1\u001b[0m \u001b[43mplt\u001b[49m\u001b[38;5;241m.\u001b[39mplot(all_nmax, all_proportions)\n\u001b[1;32m      2\u001b[0m plt\u001b[38;5;241m.\u001b[39mxlabel(\u001b[38;5;124m\"\u001b[39m\u001b[38;5;124mN\u001b[39m\u001b[38;5;124m\"\u001b[39m)\n\u001b[1;32m      3\u001b[0m plt\u001b[38;5;241m.\u001b[39mylabel(\u001b[38;5;124m\"\u001b[39m\u001b[38;5;124mProportion of primer numbers\u001b[39m\u001b[38;5;124m\"\u001b[39m)\n",
      "\u001b[0;31mNameError\u001b[0m: name 'plt' is not defined"
     ]
    }
   ],
   "source": [
    "plt.plot(all_nmax, all_proportions)\n",
    "plt.xlabel(\"N\")\n",
    "plt.ylabel(\"Proportion of primer numbers\")"
   ]
  },
  {
   "cell_type": "markdown",
   "id": "b8c287c9-e310-4498-92ce-c59bec68b9fa",
   "metadata": {},
   "source": [
    "OIn theory this should look like $1 / ln(N)$. Let's make the plot in log scale, since it seems more meaninful in this way."
   ]
  },
  {
   "cell_type": "code",
   "execution_count": 30,
   "id": "47c05b78-ba0d-43a3-beb0-215891d9a10c",
   "metadata": {},
   "outputs": [
    {
     "data": {
      "image/png": "[encoded data removed]",
      "text/plain": [
       "<Figure size 640x480 with 1 Axes>"
      ]
     },
     "metadata": {},
     "output_type": "display_data"
    }
   ],
   "source": [
    "plt.plot(all_nmax, all_proportions)\n",
    "plt.xlabel(\"N\")\n",
    "plt.ylabel(\"Proportion of primer numbers\")\n",
    "plt.xscale(\"log\")\n",
    "plt.yscale(\"log\")"
   ]
  },
  {
   "cell_type": "markdown",
   "id": "7cda3103-9645-4323-a5eb-7a14f98a60c6",
   "metadata": {},
   "source": [
    "## Performance\n",
    "\n",
    "It will be great to compare the performance of the two algorithms as we increase the window search. \n",
    "\n",
    "Write a function that computes the overall time of a program. I guess something like this should work. The function `time.perf_counter` can be useful here. "
   ]
  },
  {
   "cell_type": "code",
   "execution_count": null,
   "id": "538b8740-0820-4373-96f7-ddde241e0cd7",
   "metadata": {},
   "outputs": [],
   "source": [
    "import time\n",
    "\n",
    "def time_rng(fun, nrange, verbose=False):\n",
    "    \"\"\"\n",
    "    Time a function over a range of parameters.\n",
    "\n",
    "    Returns the list of run times.\n",
    "\n",
    "    The function should be callable with a single argument: it will be\n",
    "    called with each entry from nrange in turn.\n",
    "\n",
    "    If verbose is true, at each step the value of nrange and time for the\n",
    "    call is printed.\n",
    "    \"\"\"\n",
    "\n",
    "    # BEGIN SOLUTION\n",
    "    \n",
    "\n",
    "    # END SOLUTION\n",
    "    return nrange, times"
   ]
  },
  {
   "cell_type": "markdown",
   "id": "0ee2ace0-d28a-463b-bf77-c5ca2bef75e4",
   "metadata": {},
   "source": [
    "Plot!!! Make a comparision of the two methods. "
   ]
  },
  {
   "cell_type": "code",
   "execution_count": null,
   "id": "2e9dde0c-b629-4d68-8f06-e27702482e8d",
   "metadata": {},
   "outputs": [],
   "source": []
  }
 ],
 "metadata": {
  "kernelspec": {
   "display_name": "Python 3 (ipykernel)",
   "language": "python",
   "name": "python3"
  },
  "language_info": {
   "codemirror_mode": {
    "name": "ipython",
    "version": 3
   },
   "file_extension": ".py",
   "mimetype": "text/x-python",
   "name": "python",
   "nbconvert_exporter": "python",
   "pygments_lexer": "ipython3",
   "version": "3.10.8"
  }
 },
 "nbformat": 4,
 "nbformat_minor": 5
}
